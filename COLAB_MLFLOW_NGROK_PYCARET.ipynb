{
  "cells": [
    {
      "cell_type": "markdown",
      "metadata": {
        "id": "view-in-github",
        "colab_type": "text"
      },
      "source": [
        "<a href=\"https://colab.research.google.com/github/silviolima07/colab_ngrok_mlflow_pycaret/blob/main/COLAB_MLFLOW_NGROK_PYCARET.ipynb\" target=\"_parent\"><img src=\"https://colab.research.google.com/assets/colab-badge.svg\" alt=\"Open In Colab\"/></a>"
      ]
    },
    {
      "cell_type": "markdown",
      "source": [
        "# Aprender sempre.\n",
        "# Não se compare a ninguém, apenas com vc mesmo.\n",
        "# Seja melhor do que era na semana passada."
      ],
      "metadata": {
        "id": "gwEjBqsMIVwz"
      }
    },
    {
      "cell_type": "markdown",
      "source": [
        "# ANÁLISE DE CHURN\n",
        "# UTILIZANDO AS SEQUINTES FERRAMENTAS:\n",
        "- COLAB\n",
        "- NGROK\n",
        "- MLFLOW\n",
        "- PYCARET"
      ],
      "metadata": {
        "id": "I67ZhMne-b65"
      }
    },
    {
      "cell_type": "code",
      "source": [],
      "metadata": {
        "id": "6oobmTXJkSCl"
      },
      "execution_count": null,
      "outputs": []
    },
    {
      "cell_type": "markdown",
      "source": [
        "![](https://drive.google.com/uc?export=view&id=1TN75Ukq4kG-8JL9Or6W88hnKgQNV-_Fw)"
      ],
      "metadata": {
        "id": "FIcgUxl4GN-I"
      }
    },
    {
      "cell_type": "markdown",
      "source": [
        "# No dia-dia após coletar os dados, iniciamos o processo de análise exploratória dos dados, tratamentos dos dados, treinamento do modelo, avaliação do modelo e por fim salvamos o melhor modelo.\n",
        "# Ao final precisamos salvar as features mais relevantes, os parametros utilizados, os gráficos que foram gerados nas análises e outros documentos gerados durante todo o processo.\n",
        "# O Mlflow pode ti auxiliar a registrar todo o processo.\n",
        "# O Mlflow pode estar rodando num servidor dentro do ambente da empresa, numa porta definida.\n",
        "# Nesse exemplo, a análise esta sendo feita no Colab e o mlflow rodando na porta 5000, sendo acessado via ngrok.\n",
        "# O pycaret foi usando no tratamento, treinamento e seleção do melhor modelo."
      ],
      "metadata": {
        "id": "hCiLF_Ta40JH"
      }
    },
    {
      "cell_type": "markdown",
      "source": [
        "# Video explicando o ngrok rodando.\n",
        "https://www.youtube.com/watch?app=desktop&v=pNwnHJASuc0"
      ],
      "metadata": {
        "id": "hzaBtoXYBbYf"
      }
    },
    {
      "cell_type": "markdown",
      "source": [
        "# Exemplo mostrando como integrar Colab, Streamlit e ngrok.\n",
        "https://blog.jcharistech.com/2020/08/16/how-to-run-streamlit-apps-from-googles-colab/"
      ],
      "metadata": {
        "id": "AGSBhAwqCLr3"
      }
    },
    {
      "cell_type": "code",
      "execution_count": null,
      "metadata": {
        "id": "D4SoTjNVg_A3",
        "colab": {
          "base_uri": "https://localhost:8080/"
        },
        "outputId": "c65665a4-12ae-4405-b6b2-cfc60f412188"
      },
      "outputs": [
        {
          "output_type": "stream",
          "name": "stdout",
          "text": [
            "\u001b[2K     \u001b[90m━━━━━━━━━━━━━━━━━━━━━━━━━━━━━━━━━━━━━━━\u001b[0m \u001b[32m481.8/481.8 kB\u001b[0m \u001b[31m8.5 MB/s\u001b[0m eta \u001b[36m0:00:00\u001b[0m\n",
            "\u001b[2K     \u001b[90m━━━━━━━━━━━━━━━━━━━━━━━━━━━━━━━━━━━━━━━━\u001b[0m \u001b[32m17.7/17.7 MB\u001b[0m \u001b[31m51.7 MB/s\u001b[0m eta \u001b[36m0:00:00\u001b[0m\n",
            "\u001b[2K     \u001b[90m━━━━━━━━━━━━━━━━━━━━━━━━━━━━━━━━━━━━━━━━\u001b[0m \u001b[32m16.9/16.9 MB\u001b[0m \u001b[31m40.7 MB/s\u001b[0m eta \u001b[36m0:00:00\u001b[0m\n",
            "\u001b[2K     \u001b[90m━━━━━━━━━━━━━━━━━━━━━━━━━━━━━━━━━━━━━━\u001b[0m \u001b[32m212.2/212.2 kB\u001b[0m \u001b[31m10.0 MB/s\u001b[0m eta \u001b[36m0:00:00\u001b[0m\n",
            "\u001b[2K     \u001b[90m━━━━━━━━━━━━━━━━━━━━━━━━━━━━━━━━━━━━━━━━\u001b[0m \u001b[32m46.4/46.4 kB\u001b[0m \u001b[31m3.0 MB/s\u001b[0m eta \u001b[36m0:00:00\u001b[0m\n",
            "\u001b[?25h  Installing build dependencies ... \u001b[?25l\u001b[?25hdone\n",
            "  Getting requirements to build wheel ... \u001b[?25l\u001b[?25hdone\n",
            "  Preparing metadata (pyproject.toml) ... \u001b[?25l\u001b[?25hdone\n",
            "\u001b[2K     \u001b[90m━━━━━━━━━━━━━━━━━━━━━━━━━━━━━━━━━━━━━━━\u001b[0m \u001b[32m105.8/105.8 kB\u001b[0m \u001b[31m4.3 MB/s\u001b[0m eta \u001b[36m0:00:00\u001b[0m\n",
            "\u001b[2K     \u001b[90m━━━━━━━━━━━━━━━━━━━━━━━━━━━━━━━━━━━━━━━━\u001b[0m \u001b[32m79.9/79.9 MB\u001b[0m \u001b[31m9.4 MB/s\u001b[0m eta \u001b[36m0:00:00\u001b[0m\n",
            "\u001b[2K     \u001b[90m━━━━━━━━━━━━━━━━━━━━━━━━━━━━━━━━━━━━━━━━\u001b[0m \u001b[32m1.9/1.9 MB\u001b[0m \u001b[31m21.6 MB/s\u001b[0m eta \u001b[36m0:00:00\u001b[0m\n",
            "\u001b[2K     \u001b[90m━━━━━━━━━━━━━━━━━━━━━━━━━━━━━━━━━━━━━━━━\u001b[0m \u001b[32m44.0/44.0 kB\u001b[0m \u001b[31m4.8 MB/s\u001b[0m eta \u001b[36m0:00:00\u001b[0m\n",
            "\u001b[2K     \u001b[90m━━━━━━━━━━━━━━━━━━━━━━━━━━━━━━━━━━━━━━━━\u001b[0m \u001b[32m81.2/81.2 kB\u001b[0m \u001b[31m8.7 MB/s\u001b[0m eta \u001b[36m0:00:00\u001b[0m\n",
            "\u001b[2K     \u001b[90m━━━━━━━━━━━━━━━━━━━━━━━━━━━━━━━━━━━━━━\u001b[0m \u001b[32m150.0/150.0 kB\u001b[0m \u001b[31m14.6 MB/s\u001b[0m eta \u001b[36m0:00:00\u001b[0m\n",
            "\u001b[?25h  Preparing metadata (setup.py) ... \u001b[?25l\u001b[?25hdone\n",
            "\u001b[2K     \u001b[90m━━━━━━━━━━━━━━━━━━━━━━━━━━━━━━━━━━━━━━━\u001b[0m \u001b[32m147.5/147.5 kB\u001b[0m \u001b[31m4.6 MB/s\u001b[0m eta \u001b[36m0:00:00\u001b[0m\n",
            "\u001b[2K     \u001b[90m━━━━━━━━━━━━━━━━━━━━━━━━━━━━━━━━━━━━━━\u001b[0m \u001b[32m184.3/184.3 kB\u001b[0m \u001b[31m16.5 MB/s\u001b[0m eta \u001b[36m0:00:00\u001b[0m\n",
            "\u001b[2K     \u001b[90m━━━━━━━━━━━━━━━━━━━━━━━━━━━━━━━━━━━━━━\u001b[0m \u001b[32m212.9/212.9 kB\u001b[0m \u001b[31m17.4 MB/s\u001b[0m eta \u001b[36m0:00:00\u001b[0m\n",
            "\u001b[2K     \u001b[90m━━━━━━━━━━━━━━━━━━━━━━━━━━━━━━━━━━━━━━━━\u001b[0m \u001b[32m82.7/82.7 kB\u001b[0m \u001b[31m9.2 MB/s\u001b[0m eta \u001b[36m0:00:00\u001b[0m\n",
            "\u001b[?25h  Preparing metadata (setup.py) ... \u001b[?25l\u001b[?25hdone\n",
            "\u001b[2K     \u001b[90m━━━━━━━━━━━━━━━━━━━━━━━━━━━━━━━━━━━━━━━━\u001b[0m \u001b[32m79.5/79.5 kB\u001b[0m \u001b[31m8.5 MB/s\u001b[0m eta \u001b[36m0:00:00\u001b[0m\n",
            "\u001b[2K     \u001b[90m━━━━━━━━━━━━━━━━━━━━━━━━━━━━━━━━━━━━━━━━\u001b[0m \u001b[32m78.7/78.7 kB\u001b[0m \u001b[31m5.1 MB/s\u001b[0m eta \u001b[36m0:00:00\u001b[0m\n",
            "\u001b[2K     \u001b[90m━━━━━━━━━━━━━━━━━━━━━━━━━━━━━━━━━━━━━━━━\u001b[0m \u001b[32m62.7/62.7 kB\u001b[0m \u001b[31m6.1 MB/s\u001b[0m eta \u001b[36m0:00:00\u001b[0m\n",
            "\u001b[2K     \u001b[90m━━━━━━━━━━━━━━━━━━━━━━━━━━━━━━━━━━━━━━━━\u001b[0m \u001b[32m1.6/1.6 MB\u001b[0m \u001b[31m55.3 MB/s\u001b[0m eta \u001b[36m0:00:00\u001b[0m\n",
            "\u001b[2K     \u001b[90m━━━━━━━━━━━━━━━━━━━━━━━━━━━━━━━━━━━━━━\u001b[0m \u001b[32m140.5/140.5 kB\u001b[0m \u001b[31m12.2 MB/s\u001b[0m eta \u001b[36m0:00:00\u001b[0m\n",
            "\u001b[2K     \u001b[90m━━━━━━━━━━━━━━━━━━━━━━━━━━━━━━━━━━━━━━━━\u001b[0m \u001b[32m10.2/10.2 MB\u001b[0m \u001b[31m69.1 MB/s\u001b[0m eta \u001b[36m0:00:00\u001b[0m\n",
            "\u001b[2K     \u001b[90m━━━━━━━━━━━━━━━━━━━━━━━━━━━━━━━━━━━━━━\u001b[0m \u001b[32m185.2/185.2 kB\u001b[0m \u001b[31m16.9 MB/s\u001b[0m eta \u001b[36m0:00:00\u001b[0m\n",
            "\u001b[?25h  Building wheel for databricks-cli (setup.py) ... \u001b[?25l\u001b[?25hdone\n",
            "  Building wheel for plotly-resampler (pyproject.toml) ... \u001b[?25l\u001b[?25hdone\n",
            "  Building wheel for pyod (setup.py) ... \u001b[?25l\u001b[?25hdone\n"
          ]
        }
      ],
      "source": [
        "!pip install --q pycaret mlflow"
      ]
    },
    {
      "cell_type": "code",
      "source": [
        "!pip install pyngrok"
      ],
      "metadata": {
        "colab": {
          "base_uri": "https://localhost:8080/"
        },
        "id": "6jivQyHJA0Cv",
        "outputId": "2254da1f-bef7-456a-8e7f-9348a5a720cb"
      },
      "execution_count": null,
      "outputs": [
        {
          "output_type": "stream",
          "name": "stdout",
          "text": [
            "Looking in indexes: https://pypi.org/simple, https://us-python.pkg.dev/colab-wheels/public/simple/\n",
            "Collecting pyngrok\n",
            "  Downloading pyngrok-6.0.0.tar.gz (681 kB)\n",
            "\u001b[2K     \u001b[90m━━━━━━━━━━━━━━━━━━━━━━━━━━━━━━━━━━━━━━\u001b[0m \u001b[32m681.2/681.2 kB\u001b[0m \u001b[31m12.3 MB/s\u001b[0m eta \u001b[36m0:00:00\u001b[0m\n",
            "\u001b[?25h  Preparing metadata (setup.py) ... \u001b[?25l\u001b[?25hdone\n",
            "Requirement already satisfied: PyYAML in /usr/local/lib/python3.9/dist-packages (from pyngrok) (6.0)\n",
            "Building wheels for collected packages: pyngrok\n",
            "  Building wheel for pyngrok (setup.py) ... \u001b[?25l\u001b[?25hdone\n",
            "  Created wheel for pyngrok: filename=pyngrok-6.0.0-py3-none-any.whl size=19879 sha256=8d55e49eb44e1c42ede3be559f26929d84b7429fb061e31946fc1a92acb1dcd9\n",
            "  Stored in directory: /root/.cache/pip/wheels/31/49/9c/44b13823eb256a3b4dff34b972f7a3c7d9910bfef269e59bd7\n",
            "Successfully built pyngrok\n",
            "Installing collected packages: pyngrok\n",
            "Successfully installed pyngrok-6.0.0\n"
          ]
        }
      ]
    },
    {
      "cell_type": "code",
      "source": [
        "# Pré-Processamento\n",
        "from sklearn.preprocessing import StandardScaler\n",
        "\n",
        "import pandas as pd\n",
        "\n",
        "# Criação do modelo\n",
        "from sklearn.model_selection import train_test_split\n",
        "from sklearn.pipeline import Pipeline\n",
        "\n",
        "#Métricas\n",
        "from sklearn.metrics import accuracy_score\n",
        "from sklearn.metrics import precision_score\n",
        "from sklearn.metrics import recall_score\n",
        "from sklearn.metrics import f1_score\n",
        "from sklearn.metrics import roc_auc_score\n",
        "from sklearn.metrics import classification_report\n",
        "from sklearn.metrics import confusion_matrix\n"
      ],
      "metadata": {
        "id": "EvNdFYofp9LW"
      },
      "execution_count": null,
      "outputs": []
    },
    {
      "cell_type": "code",
      "source": [
        "import seaborn as sns\n",
        "import matplotlib.pyplot as plt"
      ],
      "metadata": {
        "id": "VWjcRu8KsRfB"
      },
      "execution_count": null,
      "outputs": []
    },
    {
      "cell_type": "code",
      "source": [
        "import mlflow\n",
        "\n",
        "from pyngrok import ngrok"
      ],
      "metadata": {
        "id": "pzY-R-F8Wiy3"
      },
      "execution_count": null,
      "outputs": []
    },
    {
      "cell_type": "code",
      "execution_count": null,
      "metadata": {
        "id": "2tdGwyx7j2fz"
      },
      "outputs": [],
      "source": [
        "from pycaret.classification import *"
      ]
    },
    {
      "cell_type": "code",
      "source": [
        "pd.set_option(\"display.precision\", 3)"
      ],
      "metadata": {
        "id": "k9NnuDqH2ZUG"
      },
      "execution_count": null,
      "outputs": []
    },
    {
      "cell_type": "code",
      "source": [
        "def metricas(y_test, y_predict):\n",
        "    acuracia = round(accuracy_score(y_test, y_predict),3)\n",
        "    precision = round(precision_score(y_test, y_predict,average='weighted'),3)\n",
        "    recall = round(recall_score(y_test, y_predict,average='weighted'),3)\n",
        "    f1 = round(f1_score(y_test, y_predict,average='weighted'),3)\n",
        "    return acuracia, precision, recall, f1\n"
      ],
      "metadata": {
        "id": "c6cI3I3dX-E6"
      },
      "execution_count": null,
      "outputs": []
    },
    {
      "cell_type": "code",
      "source": [
        "def matriz_confusao(y_test, y_predict):\n",
        "    matriz_conf = confusion_matrix(y_test.values.ravel(), y_predict)\n",
        "    fig = plt.figure()\n",
        "    ax = plt.subplot()\n",
        "    sns.heatmap(matriz_conf, annot=True, cmap='Blues', ax=ax);\n",
        "\n",
        "    ax.set_xlabel('Valor Predito');\n",
        "    ax.set_ylabel('Valor Real'); \n",
        "    ax.set_title('Matriz de Confusão'); \n",
        "    ax.xaxis.set_ticklabels(['Classe 1', 'Classe 2']);\n",
        "    ax.yaxis.set_ticklabels(['Classe 1', 'Classe 2']);\n",
        "    plt.show()\n",
        "    plt.close()\n",
        "    return fig"
      ],
      "metadata": {
        "id": "DZuf62vqsJps"
      },
      "execution_count": null,
      "outputs": []
    },
    {
      "cell_type": "code",
      "execution_count": null,
      "metadata": {
        "colab": {
          "base_uri": "https://localhost:8080/",
          "height": 487
        },
        "id": "CjGYFn_PkWPc",
        "outputId": "6d07fc09-d096-463c-f655-c9c8f4bb8991"
      },
      "outputs": [
        {
          "output_type": "execute_result",
          "data": {
            "text/plain": [
              "      RowNumber  CustomerId    Surname  CreditScore Geography  Gender  Age  \\\n",
              "0             1    15634602   Hargrave          619    France  Female   42   \n",
              "1             2    15647311       Hill          608     Spain  Female   41   \n",
              "2             3    15619304       Onio          502    France  Female   42   \n",
              "3             4    15701354       Boni          699    France  Female   39   \n",
              "4             5    15737888   Mitchell          850     Spain  Female   43   \n",
              "...         ...         ...        ...          ...       ...     ...  ...   \n",
              "9995       9996    15606229   Obijiaku          771    France    Male   39   \n",
              "9996       9997    15569892  Johnstone          516    France    Male   35   \n",
              "9997       9998    15584532        Liu          709    France  Female   36   \n",
              "9998       9999    15682355  Sabbatini          772   Germany    Male   42   \n",
              "9999      10000    15628319     Walker          792    France  Female   28   \n",
              "\n",
              "      Tenure    Balance  NumOfProducts  HasCrCard  IsActiveMember  \\\n",
              "0          2       0.00              1          1               1   \n",
              "1          1   83807.86              1          0               1   \n",
              "2          8  159660.80              3          1               0   \n",
              "3          1       0.00              2          0               0   \n",
              "4          2  125510.82              1          1               1   \n",
              "...      ...        ...            ...        ...             ...   \n",
              "9995       5       0.00              2          1               0   \n",
              "9996      10   57369.61              1          1               1   \n",
              "9997       7       0.00              1          0               1   \n",
              "9998       3   75075.31              2          1               0   \n",
              "9999       4  130142.79              1          1               0   \n",
              "\n",
              "      EstimatedSalary  Exited  \n",
              "0           101348.88       1  \n",
              "1           112542.58       0  \n",
              "2           113931.57       1  \n",
              "3            93826.63       0  \n",
              "4            79084.10       0  \n",
              "...               ...     ...  \n",
              "9995         96270.64       0  \n",
              "9996        101699.77       0  \n",
              "9997         42085.58       1  \n",
              "9998         92888.52       1  \n",
              "9999         38190.78       0  \n",
              "\n",
              "[10000 rows x 14 columns]"
            ],
            "text/html": [
              "\n",
              "  <div id=\"df-30ac50e5-25d6-432f-8bb3-99acbd7284b9\">\n",
              "    <div class=\"colab-df-container\">\n",
              "      <div>\n",
              "<style scoped>\n",
              "    .dataframe tbody tr th:only-of-type {\n",
              "        vertical-align: middle;\n",
              "    }\n",
              "\n",
              "    .dataframe tbody tr th {\n",
              "        vertical-align: top;\n",
              "    }\n",
              "\n",
              "    .dataframe thead th {\n",
              "        text-align: right;\n",
              "    }\n",
              "</style>\n",
              "<table border=\"1\" class=\"dataframe\">\n",
              "  <thead>\n",
              "    <tr style=\"text-align: right;\">\n",
              "      <th></th>\n",
              "      <th>RowNumber</th>\n",
              "      <th>CustomerId</th>\n",
              "      <th>Surname</th>\n",
              "      <th>CreditScore</th>\n",
              "      <th>Geography</th>\n",
              "      <th>Gender</th>\n",
              "      <th>Age</th>\n",
              "      <th>Tenure</th>\n",
              "      <th>Balance</th>\n",
              "      <th>NumOfProducts</th>\n",
              "      <th>HasCrCard</th>\n",
              "      <th>IsActiveMember</th>\n",
              "      <th>EstimatedSalary</th>\n",
              "      <th>Exited</th>\n",
              "    </tr>\n",
              "  </thead>\n",
              "  <tbody>\n",
              "    <tr>\n",
              "      <th>0</th>\n",
              "      <td>1</td>\n",
              "      <td>15634602</td>\n",
              "      <td>Hargrave</td>\n",
              "      <td>619</td>\n",
              "      <td>France</td>\n",
              "      <td>Female</td>\n",
              "      <td>42</td>\n",
              "      <td>2</td>\n",
              "      <td>0.00</td>\n",
              "      <td>1</td>\n",
              "      <td>1</td>\n",
              "      <td>1</td>\n",
              "      <td>101348.88</td>\n",
              "      <td>1</td>\n",
              "    </tr>\n",
              "    <tr>\n",
              "      <th>1</th>\n",
              "      <td>2</td>\n",
              "      <td>15647311</td>\n",
              "      <td>Hill</td>\n",
              "      <td>608</td>\n",
              "      <td>Spain</td>\n",
              "      <td>Female</td>\n",
              "      <td>41</td>\n",
              "      <td>1</td>\n",
              "      <td>83807.86</td>\n",
              "      <td>1</td>\n",
              "      <td>0</td>\n",
              "      <td>1</td>\n",
              "      <td>112542.58</td>\n",
              "      <td>0</td>\n",
              "    </tr>\n",
              "    <tr>\n",
              "      <th>2</th>\n",
              "      <td>3</td>\n",
              "      <td>15619304</td>\n",
              "      <td>Onio</td>\n",
              "      <td>502</td>\n",
              "      <td>France</td>\n",
              "      <td>Female</td>\n",
              "      <td>42</td>\n",
              "      <td>8</td>\n",
              "      <td>159660.80</td>\n",
              "      <td>3</td>\n",
              "      <td>1</td>\n",
              "      <td>0</td>\n",
              "      <td>113931.57</td>\n",
              "      <td>1</td>\n",
              "    </tr>\n",
              "    <tr>\n",
              "      <th>3</th>\n",
              "      <td>4</td>\n",
              "      <td>15701354</td>\n",
              "      <td>Boni</td>\n",
              "      <td>699</td>\n",
              "      <td>France</td>\n",
              "      <td>Female</td>\n",
              "      <td>39</td>\n",
              "      <td>1</td>\n",
              "      <td>0.00</td>\n",
              "      <td>2</td>\n",
              "      <td>0</td>\n",
              "      <td>0</td>\n",
              "      <td>93826.63</td>\n",
              "      <td>0</td>\n",
              "    </tr>\n",
              "    <tr>\n",
              "      <th>4</th>\n",
              "      <td>5</td>\n",
              "      <td>15737888</td>\n",
              "      <td>Mitchell</td>\n",
              "      <td>850</td>\n",
              "      <td>Spain</td>\n",
              "      <td>Female</td>\n",
              "      <td>43</td>\n",
              "      <td>2</td>\n",
              "      <td>125510.82</td>\n",
              "      <td>1</td>\n",
              "      <td>1</td>\n",
              "      <td>1</td>\n",
              "      <td>79084.10</td>\n",
              "      <td>0</td>\n",
              "    </tr>\n",
              "    <tr>\n",
              "      <th>...</th>\n",
              "      <td>...</td>\n",
              "      <td>...</td>\n",
              "      <td>...</td>\n",
              "      <td>...</td>\n",
              "      <td>...</td>\n",
              "      <td>...</td>\n",
              "      <td>...</td>\n",
              "      <td>...</td>\n",
              "      <td>...</td>\n",
              "      <td>...</td>\n",
              "      <td>...</td>\n",
              "      <td>...</td>\n",
              "      <td>...</td>\n",
              "      <td>...</td>\n",
              "    </tr>\n",
              "    <tr>\n",
              "      <th>9995</th>\n",
              "      <td>9996</td>\n",
              "      <td>15606229</td>\n",
              "      <td>Obijiaku</td>\n",
              "      <td>771</td>\n",
              "      <td>France</td>\n",
              "      <td>Male</td>\n",
              "      <td>39</td>\n",
              "      <td>5</td>\n",
              "      <td>0.00</td>\n",
              "      <td>2</td>\n",
              "      <td>1</td>\n",
              "      <td>0</td>\n",
              "      <td>96270.64</td>\n",
              "      <td>0</td>\n",
              "    </tr>\n",
              "    <tr>\n",
              "      <th>9996</th>\n",
              "      <td>9997</td>\n",
              "      <td>15569892</td>\n",
              "      <td>Johnstone</td>\n",
              "      <td>516</td>\n",
              "      <td>France</td>\n",
              "      <td>Male</td>\n",
              "      <td>35</td>\n",
              "      <td>10</td>\n",
              "      <td>57369.61</td>\n",
              "      <td>1</td>\n",
              "      <td>1</td>\n",
              "      <td>1</td>\n",
              "      <td>101699.77</td>\n",
              "      <td>0</td>\n",
              "    </tr>\n",
              "    <tr>\n",
              "      <th>9997</th>\n",
              "      <td>9998</td>\n",
              "      <td>15584532</td>\n",
              "      <td>Liu</td>\n",
              "      <td>709</td>\n",
              "      <td>France</td>\n",
              "      <td>Female</td>\n",
              "      <td>36</td>\n",
              "      <td>7</td>\n",
              "      <td>0.00</td>\n",
              "      <td>1</td>\n",
              "      <td>0</td>\n",
              "      <td>1</td>\n",
              "      <td>42085.58</td>\n",
              "      <td>1</td>\n",
              "    </tr>\n",
              "    <tr>\n",
              "      <th>9998</th>\n",
              "      <td>9999</td>\n",
              "      <td>15682355</td>\n",
              "      <td>Sabbatini</td>\n",
              "      <td>772</td>\n",
              "      <td>Germany</td>\n",
              "      <td>Male</td>\n",
              "      <td>42</td>\n",
              "      <td>3</td>\n",
              "      <td>75075.31</td>\n",
              "      <td>2</td>\n",
              "      <td>1</td>\n",
              "      <td>0</td>\n",
              "      <td>92888.52</td>\n",
              "      <td>1</td>\n",
              "    </tr>\n",
              "    <tr>\n",
              "      <th>9999</th>\n",
              "      <td>10000</td>\n",
              "      <td>15628319</td>\n",
              "      <td>Walker</td>\n",
              "      <td>792</td>\n",
              "      <td>France</td>\n",
              "      <td>Female</td>\n",
              "      <td>28</td>\n",
              "      <td>4</td>\n",
              "      <td>130142.79</td>\n",
              "      <td>1</td>\n",
              "      <td>1</td>\n",
              "      <td>0</td>\n",
              "      <td>38190.78</td>\n",
              "      <td>0</td>\n",
              "    </tr>\n",
              "  </tbody>\n",
              "</table>\n",
              "<p>10000 rows × 14 columns</p>\n",
              "</div>\n",
              "      <button class=\"colab-df-convert\" onclick=\"convertToInteractive('df-30ac50e5-25d6-432f-8bb3-99acbd7284b9')\"\n",
              "              title=\"Convert this dataframe to an interactive table.\"\n",
              "              style=\"display:none;\">\n",
              "        \n",
              "  <svg xmlns=\"http://www.w3.org/2000/svg\" height=\"24px\"viewBox=\"0 0 24 24\"\n",
              "       width=\"24px\">\n",
              "    <path d=\"M0 0h24v24H0V0z\" fill=\"none\"/>\n",
              "    <path d=\"M18.56 5.44l.94 2.06.94-2.06 2.06-.94-2.06-.94-.94-2.06-.94 2.06-2.06.94zm-11 1L8.5 8.5l.94-2.06 2.06-.94-2.06-.94L8.5 2.5l-.94 2.06-2.06.94zm10 10l.94 2.06.94-2.06 2.06-.94-2.06-.94-.94-2.06-.94 2.06-2.06.94z\"/><path d=\"M17.41 7.96l-1.37-1.37c-.4-.4-.92-.59-1.43-.59-.52 0-1.04.2-1.43.59L10.3 9.45l-7.72 7.72c-.78.78-.78 2.05 0 2.83L4 21.41c.39.39.9.59 1.41.59.51 0 1.02-.2 1.41-.59l7.78-7.78 2.81-2.81c.8-.78.8-2.07 0-2.86zM5.41 20L4 18.59l7.72-7.72 1.47 1.35L5.41 20z\"/>\n",
              "  </svg>\n",
              "      </button>\n",
              "      \n",
              "  <style>\n",
              "    .colab-df-container {\n",
              "      display:flex;\n",
              "      flex-wrap:wrap;\n",
              "      gap: 12px;\n",
              "    }\n",
              "\n",
              "    .colab-df-convert {\n",
              "      background-color: #E8F0FE;\n",
              "      border: none;\n",
              "      border-radius: 50%;\n",
              "      cursor: pointer;\n",
              "      display: none;\n",
              "      fill: #1967D2;\n",
              "      height: 32px;\n",
              "      padding: 0 0 0 0;\n",
              "      width: 32px;\n",
              "    }\n",
              "\n",
              "    .colab-df-convert:hover {\n",
              "      background-color: #E2EBFA;\n",
              "      box-shadow: 0px 1px 2px rgba(60, 64, 67, 0.3), 0px 1px 3px 1px rgba(60, 64, 67, 0.15);\n",
              "      fill: #174EA6;\n",
              "    }\n",
              "\n",
              "    [theme=dark] .colab-df-convert {\n",
              "      background-color: #3B4455;\n",
              "      fill: #D2E3FC;\n",
              "    }\n",
              "\n",
              "    [theme=dark] .colab-df-convert:hover {\n",
              "      background-color: #434B5C;\n",
              "      box-shadow: 0px 1px 3px 1px rgba(0, 0, 0, 0.15);\n",
              "      filter: drop-shadow(0px 1px 2px rgba(0, 0, 0, 0.3));\n",
              "      fill: #FFFFFF;\n",
              "    }\n",
              "  </style>\n",
              "\n",
              "      <script>\n",
              "        const buttonEl =\n",
              "          document.querySelector('#df-30ac50e5-25d6-432f-8bb3-99acbd7284b9 button.colab-df-convert');\n",
              "        buttonEl.style.display =\n",
              "          google.colab.kernel.accessAllowed ? 'block' : 'none';\n",
              "\n",
              "        async function convertToInteractive(key) {\n",
              "          const element = document.querySelector('#df-30ac50e5-25d6-432f-8bb3-99acbd7284b9');\n",
              "          const dataTable =\n",
              "            await google.colab.kernel.invokeFunction('convertToInteractive',\n",
              "                                                     [key], {});\n",
              "          if (!dataTable) return;\n",
              "\n",
              "          const docLinkHtml = 'Like what you see? Visit the ' +\n",
              "            '<a target=\"_blank\" href=https://colab.research.google.com/notebooks/data_table.ipynb>data table notebook</a>'\n",
              "            + ' to learn more about interactive tables.';\n",
              "          element.innerHTML = '';\n",
              "          dataTable['output_type'] = 'display_data';\n",
              "          await google.colab.output.renderOutput(dataTable, element);\n",
              "          const docLink = document.createElement('div');\n",
              "          docLink.innerHTML = docLinkHtml;\n",
              "          element.appendChild(docLink);\n",
              "        }\n",
              "      </script>\n",
              "    </div>\n",
              "  </div>\n",
              "  "
            ]
          },
          "metadata": {},
          "execution_count": 10
        }
      ],
      "source": [
        "data = pd.read_csv(\"https://raw.githubusercontent.com/ckliu1402/example_data/main/Churn_Modelling.csv\")\n",
        "data\n",
        "     "
      ]
    },
    {
      "cell_type": "code",
      "execution_count": null,
      "metadata": {
        "id": "VHGAULlAkasQ"
      },
      "outputs": [],
      "source": [
        "# Define columns and target\n",
        "\n",
        "exclude_columns = ['RowNumber', 'CustomerId', 'Surname']\n",
        "numerical_columns = ['CreditScore', 'Age', 'Tenure', 'Balance', 'NumOfProducts', 'EstimatedSalary']\n",
        "categorical_columns = ['Geography', 'Gender', 'HasCrCard', 'IsActiveMember']\n",
        "target = 'Exited'"
      ]
    },
    {
      "cell_type": "markdown",
      "source": [
        "# Pycaret"
      ],
      "metadata": {
        "id": "MH8cldKul6Vt"
      }
    },
    {
      "cell_type": "code",
      "execution_count": null,
      "metadata": {
        "colab": {
          "base_uri": "https://localhost:8080/",
          "height": 820
        },
        "id": "3Tw4u9k9kjMU",
        "outputId": "8b7ceb97-be62-402c-e910-ede82a555b92"
      },
      "outputs": [
        {
          "output_type": "display_data",
          "data": {
            "text/plain": [
              "<pandas.io.formats.style.Styler at 0x7fd0ef7ef6a0>"
            ],
            "text/html": [
              "<style type=\"text/css\">\n",
              "#T_bb9f1_row11_col1 {\n",
              "  background-color: lightgreen;\n",
              "}\n",
              "</style>\n",
              "<table id=\"T_bb9f1\" class=\"dataframe\">\n",
              "  <thead>\n",
              "    <tr>\n",
              "      <th class=\"blank level0\" >&nbsp;</th>\n",
              "      <th id=\"T_bb9f1_level0_col0\" class=\"col_heading level0 col0\" >Description</th>\n",
              "      <th id=\"T_bb9f1_level0_col1\" class=\"col_heading level0 col1\" >Value</th>\n",
              "    </tr>\n",
              "  </thead>\n",
              "  <tbody>\n",
              "    <tr>\n",
              "      <th id=\"T_bb9f1_level0_row0\" class=\"row_heading level0 row0\" >0</th>\n",
              "      <td id=\"T_bb9f1_row0_col0\" class=\"data row0 col0\" >Session id</td>\n",
              "      <td id=\"T_bb9f1_row0_col1\" class=\"data row0 col1\" >7431</td>\n",
              "    </tr>\n",
              "    <tr>\n",
              "      <th id=\"T_bb9f1_level0_row1\" class=\"row_heading level0 row1\" >1</th>\n",
              "      <td id=\"T_bb9f1_row1_col0\" class=\"data row1 col0\" >Target</td>\n",
              "      <td id=\"T_bb9f1_row1_col1\" class=\"data row1 col1\" >Exited</td>\n",
              "    </tr>\n",
              "    <tr>\n",
              "      <th id=\"T_bb9f1_level0_row2\" class=\"row_heading level0 row2\" >2</th>\n",
              "      <td id=\"T_bb9f1_row2_col0\" class=\"data row2 col0\" >Target type</td>\n",
              "      <td id=\"T_bb9f1_row2_col1\" class=\"data row2 col1\" >Binary</td>\n",
              "    </tr>\n",
              "    <tr>\n",
              "      <th id=\"T_bb9f1_level0_row3\" class=\"row_heading level0 row3\" >3</th>\n",
              "      <td id=\"T_bb9f1_row3_col0\" class=\"data row3 col0\" >Original data shape</td>\n",
              "      <td id=\"T_bb9f1_row3_col1\" class=\"data row3 col1\" >(10000, 14)</td>\n",
              "    </tr>\n",
              "    <tr>\n",
              "      <th id=\"T_bb9f1_level0_row4\" class=\"row_heading level0 row4\" >4</th>\n",
              "      <td id=\"T_bb9f1_row4_col0\" class=\"data row4 col0\" >Transformed data shape</td>\n",
              "      <td id=\"T_bb9f1_row4_col1\" class=\"data row4 col1\" >(10000, 13)</td>\n",
              "    </tr>\n",
              "    <tr>\n",
              "      <th id=\"T_bb9f1_level0_row5\" class=\"row_heading level0 row5\" >5</th>\n",
              "      <td id=\"T_bb9f1_row5_col0\" class=\"data row5 col0\" >Transformed train set shape</td>\n",
              "      <td id=\"T_bb9f1_row5_col1\" class=\"data row5 col1\" >(7000, 13)</td>\n",
              "    </tr>\n",
              "    <tr>\n",
              "      <th id=\"T_bb9f1_level0_row6\" class=\"row_heading level0 row6\" >6</th>\n",
              "      <td id=\"T_bb9f1_row6_col0\" class=\"data row6 col0\" >Transformed test set shape</td>\n",
              "      <td id=\"T_bb9f1_row6_col1\" class=\"data row6 col1\" >(3000, 13)</td>\n",
              "    </tr>\n",
              "    <tr>\n",
              "      <th id=\"T_bb9f1_level0_row7\" class=\"row_heading level0 row7\" >7</th>\n",
              "      <td id=\"T_bb9f1_row7_col0\" class=\"data row7 col0\" >Ignore features</td>\n",
              "      <td id=\"T_bb9f1_row7_col1\" class=\"data row7 col1\" >3</td>\n",
              "    </tr>\n",
              "    <tr>\n",
              "      <th id=\"T_bb9f1_level0_row8\" class=\"row_heading level0 row8\" >8</th>\n",
              "      <td id=\"T_bb9f1_row8_col0\" class=\"data row8 col0\" >Ordinal features</td>\n",
              "      <td id=\"T_bb9f1_row8_col1\" class=\"data row8 col1\" >3</td>\n",
              "    </tr>\n",
              "    <tr>\n",
              "      <th id=\"T_bb9f1_level0_row9\" class=\"row_heading level0 row9\" >9</th>\n",
              "      <td id=\"T_bb9f1_row9_col0\" class=\"data row9 col0\" >Numeric features</td>\n",
              "      <td id=\"T_bb9f1_row9_col1\" class=\"data row9 col1\" >6</td>\n",
              "    </tr>\n",
              "    <tr>\n",
              "      <th id=\"T_bb9f1_level0_row10\" class=\"row_heading level0 row10\" >10</th>\n",
              "      <td id=\"T_bb9f1_row10_col0\" class=\"data row10 col0\" >Categorical features</td>\n",
              "      <td id=\"T_bb9f1_row10_col1\" class=\"data row10 col1\" >4</td>\n",
              "    </tr>\n",
              "    <tr>\n",
              "      <th id=\"T_bb9f1_level0_row11\" class=\"row_heading level0 row11\" >11</th>\n",
              "      <td id=\"T_bb9f1_row11_col0\" class=\"data row11 col0\" >Preprocess</td>\n",
              "      <td id=\"T_bb9f1_row11_col1\" class=\"data row11 col1\" >True</td>\n",
              "    </tr>\n",
              "    <tr>\n",
              "      <th id=\"T_bb9f1_level0_row12\" class=\"row_heading level0 row12\" >12</th>\n",
              "      <td id=\"T_bb9f1_row12_col0\" class=\"data row12 col0\" >Imputation type</td>\n",
              "      <td id=\"T_bb9f1_row12_col1\" class=\"data row12 col1\" >simple</td>\n",
              "    </tr>\n",
              "    <tr>\n",
              "      <th id=\"T_bb9f1_level0_row13\" class=\"row_heading level0 row13\" >13</th>\n",
              "      <td id=\"T_bb9f1_row13_col0\" class=\"data row13 col0\" >Numeric imputation</td>\n",
              "      <td id=\"T_bb9f1_row13_col1\" class=\"data row13 col1\" >mean</td>\n",
              "    </tr>\n",
              "    <tr>\n",
              "      <th id=\"T_bb9f1_level0_row14\" class=\"row_heading level0 row14\" >14</th>\n",
              "      <td id=\"T_bb9f1_row14_col0\" class=\"data row14 col0\" >Categorical imputation</td>\n",
              "      <td id=\"T_bb9f1_row14_col1\" class=\"data row14 col1\" >mode</td>\n",
              "    </tr>\n",
              "    <tr>\n",
              "      <th id=\"T_bb9f1_level0_row15\" class=\"row_heading level0 row15\" >15</th>\n",
              "      <td id=\"T_bb9f1_row15_col0\" class=\"data row15 col0\" >Maximum one-hot encoding</td>\n",
              "      <td id=\"T_bb9f1_row15_col1\" class=\"data row15 col1\" >25</td>\n",
              "    </tr>\n",
              "    <tr>\n",
              "      <th id=\"T_bb9f1_level0_row16\" class=\"row_heading level0 row16\" >16</th>\n",
              "      <td id=\"T_bb9f1_row16_col0\" class=\"data row16 col0\" >Encoding method</td>\n",
              "      <td id=\"T_bb9f1_row16_col1\" class=\"data row16 col1\" >None</td>\n",
              "    </tr>\n",
              "    <tr>\n",
              "      <th id=\"T_bb9f1_level0_row17\" class=\"row_heading level0 row17\" >17</th>\n",
              "      <td id=\"T_bb9f1_row17_col0\" class=\"data row17 col0\" >Fold Generator</td>\n",
              "      <td id=\"T_bb9f1_row17_col1\" class=\"data row17 col1\" >StratifiedKFold</td>\n",
              "    </tr>\n",
              "    <tr>\n",
              "      <th id=\"T_bb9f1_level0_row18\" class=\"row_heading level0 row18\" >18</th>\n",
              "      <td id=\"T_bb9f1_row18_col0\" class=\"data row18 col0\" >Fold Number</td>\n",
              "      <td id=\"T_bb9f1_row18_col1\" class=\"data row18 col1\" >10</td>\n",
              "    </tr>\n",
              "    <tr>\n",
              "      <th id=\"T_bb9f1_level0_row19\" class=\"row_heading level0 row19\" >19</th>\n",
              "      <td id=\"T_bb9f1_row19_col0\" class=\"data row19 col0\" >CPU Jobs</td>\n",
              "      <td id=\"T_bb9f1_row19_col1\" class=\"data row19 col1\" >-1</td>\n",
              "    </tr>\n",
              "    <tr>\n",
              "      <th id=\"T_bb9f1_level0_row20\" class=\"row_heading level0 row20\" >20</th>\n",
              "      <td id=\"T_bb9f1_row20_col0\" class=\"data row20 col0\" >Use GPU</td>\n",
              "      <td id=\"T_bb9f1_row20_col1\" class=\"data row20 col1\" >False</td>\n",
              "    </tr>\n",
              "    <tr>\n",
              "      <th id=\"T_bb9f1_level0_row21\" class=\"row_heading level0 row21\" >21</th>\n",
              "      <td id=\"T_bb9f1_row21_col0\" class=\"data row21 col0\" >Log Experiment</td>\n",
              "      <td id=\"T_bb9f1_row21_col1\" class=\"data row21 col1\" >MlflowLogger</td>\n",
              "    </tr>\n",
              "    <tr>\n",
              "      <th id=\"T_bb9f1_level0_row22\" class=\"row_heading level0 row22\" >22</th>\n",
              "      <td id=\"T_bb9f1_row22_col0\" class=\"data row22 col0\" >Experiment Name</td>\n",
              "      <td id=\"T_bb9f1_row22_col1\" class=\"data row22 col1\" >mlflow_experiment</td>\n",
              "    </tr>\n",
              "    <tr>\n",
              "      <th id=\"T_bb9f1_level0_row23\" class=\"row_heading level0 row23\" >23</th>\n",
              "      <td id=\"T_bb9f1_row23_col0\" class=\"data row23 col0\" >USI</td>\n",
              "      <td id=\"T_bb9f1_row23_col1\" class=\"data row23 col1\" >96f4</td>\n",
              "    </tr>\n",
              "  </tbody>\n",
              "</table>\n"
            ]
          },
          "metadata": {}
        },
        {
          "output_type": "stream",
          "name": "stderr",
          "text": [
            "2023/04/27 13:10:51 INFO mlflow.tracking.fluent: Experiment with name 'mlflow_experiment' does not exist. Creating a new experiment.\n"
          ]
        }
      ],
      "source": [
        "experiment = setup(data = data,\n",
        "                   ignore_features = exclude_columns,\n",
        "                   numeric_features = numerical_columns,\n",
        "                   categorical_features = categorical_columns,\n",
        "                   target = target,\n",
        "                   log_experiment = True,\n",
        "                   log_plots = True,\n",
        "                   experiment_name = 'mlflow_experiment'\n",
        "                   )"
      ]
    },
    {
      "cell_type": "code",
      "execution_count": null,
      "metadata": {
        "colab": {
          "base_uri": "https://localhost:8080/",
          "height": 588,
          "referenced_widgets": [
            "e7fdfe55092444cc8afeef33b7bae786",
            "5150c396f920457aa2143a044b6f94d3",
            "20c30f53f1754915bccdd58673a04c92",
            "c9a4c84136f54f58b483f4eedfbb34c4",
            "62f6ea7b7c1145199665409398c3079e",
            "213009ab236f40df8668c8cedd6719f9",
            "500826c2613a4efc91a7a6062730299a",
            "dc62847bdf6040ee99269e89dafac38a",
            "005ef71098fb432e9436936e0efc7fa0",
            "e06992d8124b456c9c9b7fafe8151f59",
            "e6968a239fa142c386126f1b799a2aa5",
            "2d540c6733314b3b87f2b9d37c8c0064",
            "e4ed985625a644f78f170afab7590a58",
            "a6d54027b33b4332979c68bd0dfdb64c",
            "908d75939a574629a6fe7b612890b31a",
            "c23c413622b64a2c8e9dbdaa441242af",
            "daa6bcfd2cb84249a781d8dd855b0ad7",
            "5f511e3c646e4c8c846a96dd7a3dd28c",
            "ce49d8f0f65747e88b1762916f091dfa",
            "d6e97b695ca8483cb18fd049bd18477a",
            "7305b7c011d146db85948291577b6b0a",
            "9c9712f91767448faae247f4b1723e2b"
          ]
        },
        "id": "g1OP3ufLkpyG",
        "outputId": "5a10b85d-5994-4671-80e7-e202d3dc1f38"
      },
      "outputs": [
        {
          "output_type": "display_data",
          "data": {
            "text/plain": [
              "<IPython.core.display.HTML object>"
            ],
            "text/html": []
          },
          "metadata": {}
        },
        {
          "output_type": "display_data",
          "data": {
            "text/plain": [
              "<pandas.io.formats.style.Styler at 0x7fd0efa7df40>"
            ],
            "text/html": [
              "<style type=\"text/css\">\n",
              "#T_f09e5 th {\n",
              "  text-align: left;\n",
              "}\n",
              "#T_f09e5_row0_col0, #T_f09e5_row1_col0, #T_f09e5_row1_col1, #T_f09e5_row1_col2, #T_f09e5_row1_col3, #T_f09e5_row1_col4, #T_f09e5_row1_col5, #T_f09e5_row1_col6, #T_f09e5_row1_col7 {\n",
              "  text-align: left;\n",
              "}\n",
              "#T_f09e5_row0_col1, #T_f09e5_row0_col2, #T_f09e5_row0_col3, #T_f09e5_row0_col4, #T_f09e5_row0_col5, #T_f09e5_row0_col6, #T_f09e5_row0_col7 {\n",
              "  text-align: left;\n",
              "  background-color: yellow;\n",
              "}\n",
              "#T_f09e5_row0_col8 {\n",
              "  text-align: left;\n",
              "  background-color: lightgrey;\n",
              "}\n",
              "#T_f09e5_row1_col8 {\n",
              "  text-align: left;\n",
              "  background-color: yellow;\n",
              "  background-color: lightgrey;\n",
              "}\n",
              "</style>\n",
              "<table id=\"T_f09e5\" class=\"dataframe\">\n",
              "  <thead>\n",
              "    <tr>\n",
              "      <th class=\"blank level0\" >&nbsp;</th>\n",
              "      <th id=\"T_f09e5_level0_col0\" class=\"col_heading level0 col0\" >Model</th>\n",
              "      <th id=\"T_f09e5_level0_col1\" class=\"col_heading level0 col1\" >Accuracy</th>\n",
              "      <th id=\"T_f09e5_level0_col2\" class=\"col_heading level0 col2\" >AUC</th>\n",
              "      <th id=\"T_f09e5_level0_col3\" class=\"col_heading level0 col3\" >Recall</th>\n",
              "      <th id=\"T_f09e5_level0_col4\" class=\"col_heading level0 col4\" >Prec.</th>\n",
              "      <th id=\"T_f09e5_level0_col5\" class=\"col_heading level0 col5\" >F1</th>\n",
              "      <th id=\"T_f09e5_level0_col6\" class=\"col_heading level0 col6\" >Kappa</th>\n",
              "      <th id=\"T_f09e5_level0_col7\" class=\"col_heading level0 col7\" >MCC</th>\n",
              "      <th id=\"T_f09e5_level0_col8\" class=\"col_heading level0 col8\" >TT (Sec)</th>\n",
              "    </tr>\n",
              "  </thead>\n",
              "  <tbody>\n",
              "    <tr>\n",
              "      <th id=\"T_f09e5_level0_row0\" class=\"row_heading level0 row0\" >gbc</th>\n",
              "      <td id=\"T_f09e5_row0_col0\" class=\"data row0 col0\" >Gradient Boosting Classifier</td>\n",
              "      <td id=\"T_f09e5_row0_col1\" class=\"data row0 col1\" >0.8669</td>\n",
              "      <td id=\"T_f09e5_row0_col2\" class=\"data row0 col2\" >0.8624</td>\n",
              "      <td id=\"T_f09e5_row0_col3\" class=\"data row0 col3\" >0.4776</td>\n",
              "      <td id=\"T_f09e5_row0_col4\" class=\"data row0 col4\" >0.7873</td>\n",
              "      <td id=\"T_f09e5_row0_col5\" class=\"data row0 col5\" >0.5936</td>\n",
              "      <td id=\"T_f09e5_row0_col6\" class=\"data row0 col6\" >0.5197</td>\n",
              "      <td id=\"T_f09e5_row0_col7\" class=\"data row0 col7\" >0.5434</td>\n",
              "      <td id=\"T_f09e5_row0_col8\" class=\"data row0 col8\" >3.7750</td>\n",
              "    </tr>\n",
              "    <tr>\n",
              "      <th id=\"T_f09e5_level0_row1\" class=\"row_heading level0 row1\" >rf</th>\n",
              "      <td id=\"T_f09e5_row1_col0\" class=\"data row1 col0\" >Random Forest Classifier</td>\n",
              "      <td id=\"T_f09e5_row1_col1\" class=\"data row1 col1\" >0.8661</td>\n",
              "      <td id=\"T_f09e5_row1_col2\" class=\"data row1 col2\" >0.8476</td>\n",
              "      <td id=\"T_f09e5_row1_col3\" class=\"data row1 col3\" >0.4734</td>\n",
              "      <td id=\"T_f09e5_row1_col4\" class=\"data row1 col4\" >0.7855</td>\n",
              "      <td id=\"T_f09e5_row1_col5\" class=\"data row1 col5\" >0.5897</td>\n",
              "      <td id=\"T_f09e5_row1_col6\" class=\"data row1 col6\" >0.5157</td>\n",
              "      <td id=\"T_f09e5_row1_col7\" class=\"data row1 col7\" >0.5398</td>\n",
              "      <td id=\"T_f09e5_row1_col8\" class=\"data row1 col8\" >1.7120</td>\n",
              "    </tr>\n",
              "  </tbody>\n",
              "</table>\n"
            ]
          },
          "metadata": {}
        },
        {
          "output_type": "display_data",
          "data": {
            "text/plain": [
              "Processing:   0%|          | 0/13 [00:00<?, ?it/s]"
            ],
            "application/vnd.jupyter.widget-view+json": {
              "version_major": 2,
              "version_minor": 0,
              "model_id": "e7fdfe55092444cc8afeef33b7bae786"
            }
          },
          "metadata": {
            "application/vnd.jupyter.widget-view+json": {
              "colab": {
                "custom_widget_manager": {
                  "url": "https://ssl.gstatic.com/colaboratory-static/widgets/colab-cdn-widget-manager/b3e629b1971e1542/manager.min.js"
                }
              }
            }
          }
        },
        {
          "output_type": "display_data",
          "data": {
            "text/plain": [
              "<IPython.core.display.HTML object>"
            ],
            "text/html": []
          },
          "metadata": {}
        },
        {
          "output_type": "display_data",
          "data": {
            "text/plain": [
              "<IPython.core.display.HTML object>"
            ],
            "text/html": []
          },
          "metadata": {}
        },
        {
          "output_type": "display_data",
          "data": {
            "text/plain": [
              "<pandas.io.formats.style.Styler at 0x7fd1013ef610>"
            ],
            "text/html": [
              "<style type=\"text/css\">\n",
              "#T_cfd36_row10_col0, #T_cfd36_row10_col1, #T_cfd36_row10_col2, #T_cfd36_row10_col3, #T_cfd36_row10_col4, #T_cfd36_row10_col5, #T_cfd36_row10_col6 {\n",
              "  background: yellow;\n",
              "}\n",
              "</style>\n",
              "<table id=\"T_cfd36\" class=\"dataframe\">\n",
              "  <thead>\n",
              "    <tr>\n",
              "      <th class=\"blank level0\" >&nbsp;</th>\n",
              "      <th id=\"T_cfd36_level0_col0\" class=\"col_heading level0 col0\" >Accuracy</th>\n",
              "      <th id=\"T_cfd36_level0_col1\" class=\"col_heading level0 col1\" >AUC</th>\n",
              "      <th id=\"T_cfd36_level0_col2\" class=\"col_heading level0 col2\" >Recall</th>\n",
              "      <th id=\"T_cfd36_level0_col3\" class=\"col_heading level0 col3\" >Prec.</th>\n",
              "      <th id=\"T_cfd36_level0_col4\" class=\"col_heading level0 col4\" >F1</th>\n",
              "      <th id=\"T_cfd36_level0_col5\" class=\"col_heading level0 col5\" >Kappa</th>\n",
              "      <th id=\"T_cfd36_level0_col6\" class=\"col_heading level0 col6\" >MCC</th>\n",
              "    </tr>\n",
              "    <tr>\n",
              "      <th class=\"index_name level0\" >Fold</th>\n",
              "      <th class=\"blank col0\" >&nbsp;</th>\n",
              "      <th class=\"blank col1\" >&nbsp;</th>\n",
              "      <th class=\"blank col2\" >&nbsp;</th>\n",
              "      <th class=\"blank col3\" >&nbsp;</th>\n",
              "      <th class=\"blank col4\" >&nbsp;</th>\n",
              "      <th class=\"blank col5\" >&nbsp;</th>\n",
              "      <th class=\"blank col6\" >&nbsp;</th>\n",
              "    </tr>\n",
              "  </thead>\n",
              "  <tbody>\n",
              "    <tr>\n",
              "      <th id=\"T_cfd36_level0_row0\" class=\"row_heading level0 row0\" >0</th>\n",
              "      <td id=\"T_cfd36_row0_col0\" class=\"data row0 col0\" >0.8429</td>\n",
              "      <td id=\"T_cfd36_row0_col1\" class=\"data row0 col1\" >0.8278</td>\n",
              "      <td id=\"T_cfd36_row0_col2\" class=\"data row0 col2\" >0.4648</td>\n",
              "      <td id=\"T_cfd36_row0_col3\" class=\"data row0 col3\" >0.6600</td>\n",
              "      <td id=\"T_cfd36_row0_col4\" class=\"data row0 col4\" >0.5455</td>\n",
              "      <td id=\"T_cfd36_row0_col5\" class=\"data row0 col5\" >0.4539</td>\n",
              "      <td id=\"T_cfd36_row0_col6\" class=\"data row0 col6\" >0.4641</td>\n",
              "    </tr>\n",
              "    <tr>\n",
              "      <th id=\"T_cfd36_level0_row1\" class=\"row_heading level0 row1\" >1</th>\n",
              "      <td id=\"T_cfd36_row1_col0\" class=\"data row1 col0\" >0.8600</td>\n",
              "      <td id=\"T_cfd36_row1_col1\" class=\"data row1 col1\" >0.8520</td>\n",
              "      <td id=\"T_cfd36_row1_col2\" class=\"data row1 col2\" >0.4507</td>\n",
              "      <td id=\"T_cfd36_row1_col3\" class=\"data row1 col3\" >0.7619</td>\n",
              "      <td id=\"T_cfd36_row1_col4\" class=\"data row1 col4\" >0.5664</td>\n",
              "      <td id=\"T_cfd36_row1_col5\" class=\"data row1 col5\" >0.4894</td>\n",
              "      <td id=\"T_cfd36_row1_col6\" class=\"data row1 col6\" >0.5134</td>\n",
              "    </tr>\n",
              "    <tr>\n",
              "      <th id=\"T_cfd36_level0_row2\" class=\"row_heading level0 row2\" >2</th>\n",
              "      <td id=\"T_cfd36_row2_col0\" class=\"data row2 col0\" >0.8643</td>\n",
              "      <td id=\"T_cfd36_row2_col1\" class=\"data row2 col1\" >0.8558</td>\n",
              "      <td id=\"T_cfd36_row2_col2\" class=\"data row2 col2\" >0.4718</td>\n",
              "      <td id=\"T_cfd36_row2_col3\" class=\"data row2 col3\" >0.7701</td>\n",
              "      <td id=\"T_cfd36_row2_col4\" class=\"data row2 col4\" >0.5852</td>\n",
              "      <td id=\"T_cfd36_row2_col5\" class=\"data row2 col5\" >0.5096</td>\n",
              "      <td id=\"T_cfd36_row2_col6\" class=\"data row2 col6\" >0.5314</td>\n",
              "    </tr>\n",
              "    <tr>\n",
              "      <th id=\"T_cfd36_level0_row3\" class=\"row_heading level0 row3\" >3</th>\n",
              "      <td id=\"T_cfd36_row3_col0\" class=\"data row3 col0\" >0.8586</td>\n",
              "      <td id=\"T_cfd36_row3_col1\" class=\"data row3 col1\" >0.8645</td>\n",
              "      <td id=\"T_cfd36_row3_col2\" class=\"data row3 col2\" >0.4718</td>\n",
              "      <td id=\"T_cfd36_row3_col3\" class=\"data row3 col3\" >0.7363</td>\n",
              "      <td id=\"T_cfd36_row3_col4\" class=\"data row3 col4\" >0.5751</td>\n",
              "      <td id=\"T_cfd36_row3_col5\" class=\"data row3 col5\" >0.4951</td>\n",
              "      <td id=\"T_cfd36_row3_col6\" class=\"data row3 col6\" >0.5128</td>\n",
              "    </tr>\n",
              "    <tr>\n",
              "      <th id=\"T_cfd36_level0_row4\" class=\"row_heading level0 row4\" >4</th>\n",
              "      <td id=\"T_cfd36_row4_col0\" class=\"data row4 col0\" >0.8714</td>\n",
              "      <td id=\"T_cfd36_row4_col1\" class=\"data row4 col1\" >0.8630</td>\n",
              "      <td id=\"T_cfd36_row4_col2\" class=\"data row4 col2\" >0.4615</td>\n",
              "      <td id=\"T_cfd36_row4_col3\" class=\"data row4 col3\" >0.8354</td>\n",
              "      <td id=\"T_cfd36_row4_col4\" class=\"data row4 col4\" >0.5946</td>\n",
              "      <td id=\"T_cfd36_row4_col5\" class=\"data row4 col5\" >0.5256</td>\n",
              "      <td id=\"T_cfd36_row4_col6\" class=\"data row4 col6\" >0.5584</td>\n",
              "    </tr>\n",
              "    <tr>\n",
              "      <th id=\"T_cfd36_level0_row5\" class=\"row_heading level0 row5\" >5</th>\n",
              "      <td id=\"T_cfd36_row5_col0\" class=\"data row5 col0\" >0.8714</td>\n",
              "      <td id=\"T_cfd36_row5_col1\" class=\"data row5 col1\" >0.8716</td>\n",
              "      <td id=\"T_cfd36_row5_col2\" class=\"data row5 col2\" >0.4825</td>\n",
              "      <td id=\"T_cfd36_row5_col3\" class=\"data row5 col3\" >0.8118</td>\n",
              "      <td id=\"T_cfd36_row5_col4\" class=\"data row5 col4\" >0.6053</td>\n",
              "      <td id=\"T_cfd36_row5_col5\" class=\"data row5 col5\" >0.5343</td>\n",
              "      <td id=\"T_cfd36_row5_col6\" class=\"data row5 col6\" >0.5602</td>\n",
              "    </tr>\n",
              "    <tr>\n",
              "      <th id=\"T_cfd36_level0_row6\" class=\"row_heading level0 row6\" >6</th>\n",
              "      <td id=\"T_cfd36_row6_col0\" class=\"data row6 col0\" >0.8571</td>\n",
              "      <td id=\"T_cfd36_row6_col1\" class=\"data row6 col1\" >0.8173</td>\n",
              "      <td id=\"T_cfd36_row6_col2\" class=\"data row6 col2\" >0.4126</td>\n",
              "      <td id=\"T_cfd36_row6_col3\" class=\"data row6 col3\" >0.7867</td>\n",
              "      <td id=\"T_cfd36_row6_col4\" class=\"data row6 col4\" >0.5413</td>\n",
              "      <td id=\"T_cfd36_row6_col5\" class=\"data row6 col5\" >0.4663</td>\n",
              "      <td id=\"T_cfd36_row6_col6\" class=\"data row6 col6\" >0.5004</td>\n",
              "    </tr>\n",
              "    <tr>\n",
              "      <th id=\"T_cfd36_level0_row7\" class=\"row_heading level0 row7\" >7</th>\n",
              "      <td id=\"T_cfd36_row7_col0\" class=\"data row7 col0\" >0.8686</td>\n",
              "      <td id=\"T_cfd36_row7_col1\" class=\"data row7 col1\" >0.8701</td>\n",
              "      <td id=\"T_cfd36_row7_col2\" class=\"data row7 col2\" >0.4895</td>\n",
              "      <td id=\"T_cfd36_row7_col3\" class=\"data row7 col3\" >0.7865</td>\n",
              "      <td id=\"T_cfd36_row7_col4\" class=\"data row7 col4\" >0.6034</td>\n",
              "      <td id=\"T_cfd36_row7_col5\" class=\"data row7 col5\" >0.5297</td>\n",
              "      <td id=\"T_cfd36_row7_col6\" class=\"data row7 col6\" >0.5512</td>\n",
              "    </tr>\n",
              "    <tr>\n",
              "      <th id=\"T_cfd36_level0_row8\" class=\"row_heading level0 row8\" >8</th>\n",
              "      <td id=\"T_cfd36_row8_col0\" class=\"data row8 col0\" >0.8714</td>\n",
              "      <td id=\"T_cfd36_row8_col1\" class=\"data row8 col1\" >0.8396</td>\n",
              "      <td id=\"T_cfd36_row8_col2\" class=\"data row8 col2\" >0.5385</td>\n",
              "      <td id=\"T_cfd36_row8_col3\" class=\"data row8 col3\" >0.7624</td>\n",
              "      <td id=\"T_cfd36_row8_col4\" class=\"data row8 col4\" >0.6311</td>\n",
              "      <td id=\"T_cfd36_row8_col5\" class=\"data row8 col5\" >0.5561</td>\n",
              "      <td id=\"T_cfd36_row8_col6\" class=\"data row8 col6\" >0.5684</td>\n",
              "    </tr>\n",
              "    <tr>\n",
              "      <th id=\"T_cfd36_level0_row9\" class=\"row_heading level0 row9\" >9</th>\n",
              "      <td id=\"T_cfd36_row9_col0\" class=\"data row9 col0\" >0.8629</td>\n",
              "      <td id=\"T_cfd36_row9_col1\" class=\"data row9 col1\" >0.8449</td>\n",
              "      <td id=\"T_cfd36_row9_col2\" class=\"data row9 col2\" >0.4406</td>\n",
              "      <td id=\"T_cfd36_row9_col3\" class=\"data row9 col3\" >0.7975</td>\n",
              "      <td id=\"T_cfd36_row9_col4\" class=\"data row9 col4\" >0.5676</td>\n",
              "      <td id=\"T_cfd36_row9_col5\" class=\"data row9 col5\" >0.4940</td>\n",
              "      <td id=\"T_cfd36_row9_col6\" class=\"data row9 col6\" >0.5248</td>\n",
              "    </tr>\n",
              "    <tr>\n",
              "      <th id=\"T_cfd36_level0_row10\" class=\"row_heading level0 row10\" >Mean</th>\n",
              "      <td id=\"T_cfd36_row10_col0\" class=\"data row10 col0\" >0.8629</td>\n",
              "      <td id=\"T_cfd36_row10_col1\" class=\"data row10 col1\" >0.8507</td>\n",
              "      <td id=\"T_cfd36_row10_col2\" class=\"data row10 col2\" >0.4684</td>\n",
              "      <td id=\"T_cfd36_row10_col3\" class=\"data row10 col3\" >0.7709</td>\n",
              "      <td id=\"T_cfd36_row10_col4\" class=\"data row10 col4\" >0.5815</td>\n",
              "      <td id=\"T_cfd36_row10_col5\" class=\"data row10 col5\" >0.5054</td>\n",
              "      <td id=\"T_cfd36_row10_col6\" class=\"data row10 col6\" >0.5285</td>\n",
              "    </tr>\n",
              "    <tr>\n",
              "      <th id=\"T_cfd36_level0_row11\" class=\"row_heading level0 row11\" >Std</th>\n",
              "      <td id=\"T_cfd36_row11_col0\" class=\"data row11 col0\" >0.0085</td>\n",
              "      <td id=\"T_cfd36_row11_col1\" class=\"data row11 col1\" >0.0172</td>\n",
              "      <td id=\"T_cfd36_row11_col2\" class=\"data row11 col2\" >0.0314</td>\n",
              "      <td id=\"T_cfd36_row11_col3\" class=\"data row11 col3\" >0.0455</td>\n",
              "      <td id=\"T_cfd36_row11_col4\" class=\"data row11 col4\" >0.0266</td>\n",
              "      <td id=\"T_cfd36_row11_col5\" class=\"data row11 col5\" >0.0302</td>\n",
              "      <td id=\"T_cfd36_row11_col6\" class=\"data row11 col6\" >0.0307</td>\n",
              "    </tr>\n",
              "  </tbody>\n",
              "</table>\n"
            ]
          },
          "metadata": {}
        },
        {
          "output_type": "display_data",
          "data": {
            "text/plain": [
              "Processing:   0%|          | 0/7 [00:00<?, ?it/s]"
            ],
            "application/vnd.jupyter.widget-view+json": {
              "version_major": 2,
              "version_minor": 0,
              "model_id": "9c9712f91767448faae247f4b1723e2b"
            }
          },
          "metadata": {
            "application/vnd.jupyter.widget-view+json": {
              "colab": {
                "custom_widget_manager": {
                  "url": "https://ssl.gstatic.com/colaboratory-static/widgets/colab-cdn-widget-manager/b3e629b1971e1542/manager.min.js"
                }
              }
            }
          }
        },
        {
          "output_type": "stream",
          "name": "stdout",
          "text": [
            "Fitting 10 folds for each of 10 candidates, totalling 100 fits\n"
          ]
        },
        {
          "output_type": "display_data",
          "data": {
            "text/plain": [
              "<IPython.core.display.HTML object>"
            ],
            "text/html": []
          },
          "metadata": {}
        },
        {
          "output_type": "stream",
          "name": "stdout",
          "text": [
            "Original model was better than the tuned model, hence it will be returned. NOTE: The display metrics are for the tuned model (not the original one).\n"
          ]
        }
      ],
      "source": [
        "## Model Selection and Optimization\n",
        "model = compare_models(n_select = 1, include = ['gbc', 'rf'])\n",
        "tuned_model = tune_model(model)\n",
        "\n",
        "## Finalize model\n",
        "finalized_model = finalize_model(tuned_model)"
      ]
    },
    {
      "cell_type": "code",
      "source": [
        "print(finalized_model)"
      ],
      "metadata": {
        "colab": {
          "base_uri": "https://localhost:8080/"
        },
        "id": "8Zc2k8sGDJYA",
        "outputId": "97740cc3-d301-4540-e3af-7393e338861b"
      },
      "execution_count": null,
      "outputs": [
        {
          "output_type": "stream",
          "name": "stdout",
          "text": [
            "Pipeline(memory=FastMemory(location=/tmp/joblib),\n",
            "         steps=[('numerical_imputer',\n",
            "                 TransformerWrapper(exclude=None,\n",
            "                                    include=['CreditScore', 'Age', 'Tenure',\n",
            "                                             'Balance', 'NumOfProducts',\n",
            "                                             'EstimatedSalary'],\n",
            "                                    transformer=SimpleImputer(add_indicator=False,\n",
            "                                                              copy=True,\n",
            "                                                              fill_value=None,\n",
            "                                                              keep_empty_features=False,\n",
            "                                                              missing_values=nan,\n",
            "                                                              strategy='mean',\n",
            "                                                              verbose='deprecated'))),\n",
            "                (...\n",
            "                                            criterion='friedman_mse', init=None,\n",
            "                                            learning_rate=0.1, loss='log_loss',\n",
            "                                            max_depth=3, max_features=None,\n",
            "                                            max_leaf_nodes=None,\n",
            "                                            min_impurity_decrease=0.0,\n",
            "                                            min_samples_leaf=1,\n",
            "                                            min_samples_split=2,\n",
            "                                            min_weight_fraction_leaf=0.0,\n",
            "                                            n_estimators=100,\n",
            "                                            n_iter_no_change=None,\n",
            "                                            random_state=7431, subsample=1.0,\n",
            "                                            tol=0.0001, validation_fraction=0.1,\n",
            "                                            verbose=0, warm_start=False))],\n",
            "         verbose=False)\n"
          ]
        }
      ]
    },
    {
      "cell_type": "markdown",
      "source": [
        "# Mlflow\n",
        "# Veja:\n",
        "https://dev.to/ksk0629/using-mlflow-on-google-colaboratory-with-github-to-build-cosy-environment-building-jb5\n",
        "\n",
        "https://github.com/ricardo-jr37/mlflow_tutorial/blob/master/main.ipynb\n",
        "\n",
        "https://fmarcelneves.medium.com/deploy-r%C3%A1pido-e-tempor%C3%A1rio-de-webapps-diretamente-do-google-colab-com-ngrok-e056b977c48a"
      ],
      "metadata": {
        "id": "n3BaVfpS4Itc"
      }
    },
    {
      "cell_type": "code",
      "source": [
        "# run mlflow server (tracking UI) in the background\n",
        "get_ipython().system_raw(\"mlflow ui --port 5000 &\")"
      ],
      "metadata": {
        "id": "S_EqI6Rw0HOs"
      },
      "execution_count": null,
      "outputs": []
    },
    {
      "cell_type": "markdown",
      "source": [
        "# Ngrok"
      ],
      "metadata": {
        "id": "EYhf3juemKnH"
      }
    },
    {
      "cell_type": "code",
      "source": [
        "ngrok.kill()"
      ],
      "metadata": {
        "id": "gXTloJYOZrV7"
      },
      "execution_count": null,
      "outputs": []
    },
    {
      "cell_type": "markdown",
      "source": [
        "# * IMPORTANTE *\n",
        "# Crie sua conta e obtenha o token necessário para o próximo passo.\n",
        " https://dashboard.ngrok.com/auth\n",
        "\n"
      ],
      "metadata": {
        "id": "Tc2IVuKe2sQP"
      }
    },
    {
      "cell_type": "code",
      "source": [
        "# Terminate ngrok port\n",
        "#ngrok.kill()\n",
        "# Set authentication (optional)\n",
        "# Get your authentication token via https://dashboard.ngrok.com/auth\n",
        "NGROK_AUTH_TOKEN = \"YOUR TOKEN HERE\"\n",
        "ngrok.set_auth_token(NGROK_AUTH_TOKEN)"
      ],
      "metadata": {
        "id": "IIViuh_fUy9Z"
      },
      "execution_count": null,
      "outputs": []
    },
    {
      "cell_type": "code",
      "source": [
        "# Open an HTTPs tunnel on port 5000 for http://localhost:5000\n",
        "ngrok_tunnel = ngrok.connect(addr=\"5000\", proto=\"http\", bind_tls=True)\n",
        "print(\"MLflow Tracking UI:\", ngrok_tunnel.public_url)"
      ],
      "metadata": {
        "colab": {
          "base_uri": "https://localhost:8080/"
        },
        "id": "fcDRBggi5oLI",
        "outputId": "3dd4278f-3305-4341-8917-d84b8ecd1b3f"
      },
      "execution_count": null,
      "outputs": [
        {
          "output_type": "stream",
          "name": "stdout",
          "text": []
        },
        {
          "output_type": "stream",
          "name": "stderr",
          "text": [
            "WARNING:pyngrok.process.ngrok:t=2023-04-27T13:15:58+0000 lvl=warn msg=\"ngrok config file found at legacy location, move to XDG location\" xdg_path=/root/.config/ngrok/ngrok.yml legacy_path=/root/.ngrok2/ngrok.yml\n"
          ]
        },
        {
          "output_type": "stream",
          "name": "stdout",
          "text": [
            "MLflow Tracking UI: https://95a4-34-132-218-237.ngrok.io\n"
          ]
        }
      ]
    },
    {
      "cell_type": "code",
      "source": [
        "tags = {\n",
        "        \"Projeto\": \"Tutorial MLflow\",\n",
        "        \"team\": \"Data Science\",\n",
        "        \"dataset\": \"Churn\"\n",
        "       }"
      ],
      "metadata": {
        "id": "8XEYSQrl5vlg"
      },
      "execution_count": null,
      "outputs": []
    },
    {
      "cell_type": "code",
      "source": [
        "mlflow.end_run()"
      ],
      "metadata": {
        "id": "OKWQM7uwWqLg"
      },
      "execution_count": null,
      "outputs": []
    },
    {
      "cell_type": "code",
      "source": [
        " # Carregando os dados \n",
        "df = data.copy()\n",
        "df.drop(exclude_columns, axis=1, inplace=True)\n",
        "# Separação dos dados entre treino e teste\n",
        "train, test = train_test_split(df)\n",
        "x_train = train.drop(columns=['Exited'])\n",
        "x_test = test.drop(columns=['Exited'])\n",
        "y_train = train[\"Exited\"]\n",
        "y_test = test[\"Exited\"]\n",
        "clf = finalized_model\n",
        "mlflow.end_run()\n",
        "# Inicializando a criação de um novo experimento     \n",
        "with mlflow.start_run(run_name='ChurnClassifier'):\n",
        "    #Criação do modelo\n",
        "    clf.fit(x_train, y_train)\n",
        "    #Load model to tracking server\n",
        "    \n",
        "    #Predição dos valores de testes\n",
        "    pred = clf.predict(x_test)\n",
        "    #Métricas\n",
        "    acuracia, precision, recall, f1 = metricas(y_test, pred)\n",
        "    print(\"Acurácia: {}\\nPrecision: {}\\nrecall: {}\\nf1: {}\".format(acuracia, precision, recall, f1))\n",
        "    #Matriz de confusão\n",
        "    matriz_conf = matriz_confusao(y_test, pred)\n",
        "    temp_name = \"confusion-matrix.png\"\n",
        "    \n",
        "    matriz_conf.savefig(temp_name)\n",
        "    mlflow.log_artifact(temp_name, \"confusion-matrix-plots\")\n",
        "    mlflow.set_tags(tags)\n",
        "    mlflow.log_param('Features', df.columns)\n",
        "    mlflow.log_metric('accuracy', acuracia)\n",
        "    mlflow.log_metric('precision', precision)\n",
        "    mlflow.log_metric('recall', recall)\n",
        "    mlflow.log_metric('f1', f1)\n",
        "mlflow.end_run()     "
      ],
      "metadata": {
        "colab": {
          "base_uri": "https://localhost:8080/",
          "height": 597
        },
        "id": "Qzvoh7QQoEnB",
        "outputId": "1ced62b8-7100-48b8-c025-4810c6e01e57"
      },
      "execution_count": null,
      "outputs": [
        {
          "output_type": "stream",
          "name": "stdout",
          "text": [
            "Acurácia: 0.851\n",
            "Precision: 0.841\n",
            "recall: 0.851\n",
            "f1: 0.836\n"
          ]
        },
        {
          "output_type": "display_data",
          "data": {
            "text/plain": [
              "<Figure size 800x550 with 2 Axes>"
            ],
            "image/png": "[encoded data removed]"
          },
          "metadata": {}
        }
      ]
    },
    {
      "cell_type": "code",
      "source": [],
      "metadata": {
        "id": "FJR1uhSsMQqM"
      },
      "execution_count": null,
      "outputs": []
    },
    {
      "cell_type": "markdown",
      "source": [
        "# Página do Mlflow sendo acessado através do ngrok.\n",
        "# Foram feitos alguns testes, os parametros vc altera e registra via mlflow.log.\n",
        "# O melhor modelo encontrado pode ser salvo.\n",
        "# O mlflow possue diversas opções, desde o préprocessamento dos dados, hiperparametros e etc."
      ],
      "metadata": {
        "id": "uxYG519d3kbh"
      }
    },
    {
      "cell_type": "code",
      "source": [
        "import cv2\n",
        "from google.colab.patches import cv2_imshow\n",
        "\n",
        "\n",
        "# Save image in set directory\n",
        "# Read RGB image\n",
        "imgs = ['/content/mlflow_1.png','/content/mlflow_2.png']\n",
        "for img in imgs:\n",
        "    temp = cv2.imread(img)\n",
        "    print(\"\\n------------------------------------------------------------------\")\n",
        "    cv2_imshow(temp)\n",
        " "
      ],
      "metadata": {
        "colab": {
          "base_uri": "https://localhost:8080/",
          "height": 1000
        },
        "id": "UptOznGOID7w",
        "outputId": "ada0feb9-e327-4c9f-b533-5ca26f203a6d"
      },
      "execution_count": null,
      "outputs": [
        {
          "output_type": "stream",
          "name": "stdout",
          "text": [
            "\n",
            "------------------------------------------------------------------\n"
          ]
        },
        {
          "output_type": "display_data",
          "data": {
            "text/plain": [
              "<PIL.Image.Image image mode=RGB size=1271x547 at 0x7FD0D872C670>"
            ],
            "image/png": "[encoded data removed]"
          },
          "metadata": {}
        },
        {
          "output_type": "stream",
          "name": "stdout",
          "text": [
            "\n",
            "------------------------------------------------------------------\n"
          ]
        },
        {
          "output_type": "display_data",
          "data": {
            "text/plain": [
              "<PIL.Image.Image image mode=RGB size=1161x703 at 0x7FD0EDA68B20>"
            ],
            "image/png": "[encoded data removed]"
          },
          "metadata": {}
        }
      ]
    }
  ],
  "metadata": {
    "colab": {
      "provenance": [],
      "authorship_tag": "ABX9TyOjR4yc4RlbP654BQoHs4jd",
      "include_colab_link": true
    },
    "kernelspec": {
      "display_name": "Python 3",
      "name": "python3"
    },
    "language_info": {
      "name": "python"
    },
    "widgets": {
      "application/vnd.jupyter.widget-state+json": {
        "e7fdfe55092444cc8afeef33b7bae786": {
          "model_module": "@jupyter-widgets/controls",
          "model_name": "HBoxModel",
          "model_module_version": "1.5.0",
          "state": {
            "_dom_classes": [],
            "_model_module": "@jupyter-widgets/controls",
            "_model_module_version": "1.5.0",
            "_model_name": "HBoxModel",
            "_view_count": null,
            "_view_module": "@jupyter-widgets/controls",
            "_view_module_version": "1.5.0",
            "_view_name": "HBoxView",
            "box_style": "",
            "children": [
              "IPY_MODEL_5150c396f920457aa2143a044b6f94d3",
              "IPY_MODEL_20c30f53f1754915bccdd58673a04c92",
              "IPY_MODEL_c9a4c84136f54f58b483f4eedfbb34c4"
            ],
            "layout": "IPY_MODEL_62f6ea7b7c1145199665409398c3079e"
          }
        },
        "5150c396f920457aa2143a044b6f94d3": {
          "model_module": "@jupyter-widgets/controls",
          "model_name": "HTMLModel",
          "model_module_version": "1.5.0",
          "state": {
            "_dom_classes": [],
            "_model_module": "@jupyter-widgets/controls",
            "_model_module_version": "1.5.0",
            "_model_name": "HTMLModel",
            "_view_count": null,
            "_view_module": "@jupyter-widgets/controls",
            "_view_module_version": "1.5.0",
            "_view_name": "HTMLView",
            "description": "",
            "description_tooltip": null,
            "layout": "IPY_MODEL_213009ab236f40df8668c8cedd6719f9",
            "placeholder": "​",
            "style": "IPY_MODEL_500826c2613a4efc91a7a6062730299a",
            "value": "Processing: 100%"
          }
        },
        "20c30f53f1754915bccdd58673a04c92": {
          "model_module": "@jupyter-widgets/controls",
          "model_name": "FloatProgressModel",
          "model_module_version": "1.5.0",
          "state": {
            "_dom_classes": [],
            "_model_module": "@jupyter-widgets/controls",
            "_model_module_version": "1.5.0",
            "_model_name": "FloatProgressModel",
            "_view_count": null,
            "_view_module": "@jupyter-widgets/controls",
            "_view_module_version": "1.5.0",
            "_view_name": "ProgressView",
            "bar_style": "",
            "description": "",
            "description_tooltip": null,
            "layout": "IPY_MODEL_dc62847bdf6040ee99269e89dafac38a",
            "max": 13,
            "min": 0,
            "orientation": "horizontal",
            "style": "IPY_MODEL_005ef71098fb432e9436936e0efc7fa0",
            "value": 13
          }
        },
        "c9a4c84136f54f58b483f4eedfbb34c4": {
          "model_module": "@jupyter-widgets/controls",
          "model_name": "HTMLModel",
          "model_module_version": "1.5.0",
          "state": {
            "_dom_classes": [],
            "_model_module": "@jupyter-widgets/controls",
            "_model_module_version": "1.5.0",
            "_model_name": "HTMLModel",
            "_view_count": null,
            "_view_module": "@jupyter-widgets/controls",
            "_view_module_version": "1.5.0",
            "_view_name": "HTMLView",
            "description": "",
            "description_tooltip": null,
            "layout": "IPY_MODEL_e06992d8124b456c9c9b7fafe8151f59",
            "placeholder": "​",
            "style": "IPY_MODEL_e6968a239fa142c386126f1b799a2aa5",
            "value": " 13/13 [00:57&lt;00:00,  3.10s/it]"
          }
        },
        "62f6ea7b7c1145199665409398c3079e": {
          "model_module": "@jupyter-widgets/base",
          "model_name": "LayoutModel",
          "model_module_version": "1.2.0",
          "state": {
            "_model_module": "@jupyter-widgets/base",
            "_model_module_version": "1.2.0",
            "_model_name": "LayoutModel",
            "_view_count": null,
            "_view_module": "@jupyter-widgets/base",
            "_view_module_version": "1.2.0",
            "_view_name": "LayoutView",
            "align_content": null,
            "align_items": null,
            "align_self": null,
            "border": null,
            "bottom": null,
            "display": null,
            "flex": null,
            "flex_flow": null,
            "grid_area": null,
            "grid_auto_columns": null,
            "grid_auto_flow": null,
            "grid_auto_rows": null,
            "grid_column": null,
            "grid_gap": null,
            "grid_row": null,
            "grid_template_areas": null,
            "grid_template_columns": null,
            "grid_template_rows": null,
            "height": null,
            "justify_content": null,
            "justify_items": null,
            "left": null,
            "margin": null,
            "max_height": null,
            "max_width": null,
            "min_height": null,
            "min_width": null,
            "object_fit": null,
            "object_position": null,
            "order": null,
            "overflow": null,
            "overflow_x": null,
            "overflow_y": null,
            "padding": null,
            "right": null,
            "top": null,
            "visibility": "hidden",
            "width": null
          }
        },
        "213009ab236f40df8668c8cedd6719f9": {
          "model_module": "@jupyter-widgets/base",
          "model_name": "LayoutModel",
          "model_module_version": "1.2.0",
          "state": {
            "_model_module": "@jupyter-widgets/base",
            "_model_module_version": "1.2.0",
            "_model_name": "LayoutModel",
            "_view_count": null,
            "_view_module": "@jupyter-widgets/base",
            "_view_module_version": "1.2.0",
            "_view_name": "LayoutView",
            "align_content": null,
            "align_items": null,
            "align_self": null,
            "border": null,
            "bottom": null,
            "display": null,
            "flex": null,
            "flex_flow": null,
            "grid_area": null,
            "grid_auto_columns": null,
            "grid_auto_flow": null,
            "grid_auto_rows": null,
            "grid_column": null,
            "grid_gap": null,
            "grid_row": null,
            "grid_template_areas": null,
            "grid_template_columns": null,
            "grid_template_rows": null,
            "height": null,
            "justify_content": null,
            "justify_items": null,
            "left": null,
            "margin": null,
            "max_height": null,
            "max_width": null,
            "min_height": null,
            "min_width": null,
            "object_fit": null,
            "object_position": null,
            "order": null,
            "overflow": null,
            "overflow_x": null,
            "overflow_y": null,
            "padding": null,
            "right": null,
            "top": null,
            "visibility": null,
            "width": null
          }
        },
        "500826c2613a4efc91a7a6062730299a": {
          "model_module": "@jupyter-widgets/controls",
          "model_name": "DescriptionStyleModel",
          "model_module_version": "1.5.0",
          "state": {
            "_model_module": "@jupyter-widgets/controls",
            "_model_module_version": "1.5.0",
            "_model_name": "DescriptionStyleModel",
            "_view_count": null,
            "_view_module": "@jupyter-widgets/base",
            "_view_module_version": "1.2.0",
            "_view_name": "StyleView",
            "description_width": ""
          }
        },
        "dc62847bdf6040ee99269e89dafac38a": {
          "model_module": "@jupyter-widgets/base",
          "model_name": "LayoutModel",
          "model_module_version": "1.2.0",
          "state": {
            "_model_module": "@jupyter-widgets/base",
            "_model_module_version": "1.2.0",
            "_model_name": "LayoutModel",
            "_view_count": null,
            "_view_module": "@jupyter-widgets/base",
            "_view_module_version": "1.2.0",
            "_view_name": "LayoutView",
            "align_content": null,
            "align_items": null,
            "align_self": null,
            "border": null,
            "bottom": null,
            "display": null,
            "flex": null,
            "flex_flow": null,
            "grid_area": null,
            "grid_auto_columns": null,
            "grid_auto_flow": null,
            "grid_auto_rows": null,
            "grid_column": null,
            "grid_gap": null,
            "grid_row": null,
            "grid_template_areas": null,
            "grid_template_columns": null,
            "grid_template_rows": null,
            "height": null,
            "justify_content": null,
            "justify_items": null,
            "left": null,
            "margin": null,
            "max_height": null,
            "max_width": null,
            "min_height": null,
            "min_width": null,
            "object_fit": null,
            "object_position": null,
            "order": null,
            "overflow": null,
            "overflow_x": null,
            "overflow_y": null,
            "padding": null,
            "right": null,
            "top": null,
            "visibility": null,
            "width": null
          }
        },
        "005ef71098fb432e9436936e0efc7fa0": {
          "model_module": "@jupyter-widgets/controls",
          "model_name": "ProgressStyleModel",
          "model_module_version": "1.5.0",
          "state": {
            "_model_module": "@jupyter-widgets/controls",
            "_model_module_version": "1.5.0",
            "_model_name": "ProgressStyleModel",
            "_view_count": null,
            "_view_module": "@jupyter-widgets/base",
            "_view_module_version": "1.2.0",
            "_view_name": "StyleView",
            "bar_color": null,
            "description_width": ""
          }
        },
        "e06992d8124b456c9c9b7fafe8151f59": {
          "model_module": "@jupyter-widgets/base",
          "model_name": "LayoutModel",
          "model_module_version": "1.2.0",
          "state": {
            "_model_module": "@jupyter-widgets/base",
            "_model_module_version": "1.2.0",
            "_model_name": "LayoutModel",
            "_view_count": null,
            "_view_module": "@jupyter-widgets/base",
            "_view_module_version": "1.2.0",
            "_view_name": "LayoutView",
            "align_content": null,
            "align_items": null,
            "align_self": null,
            "border": null,
            "bottom": null,
            "display": null,
            "flex": null,
            "flex_flow": null,
            "grid_area": null,
            "grid_auto_columns": null,
            "grid_auto_flow": null,
            "grid_auto_rows": null,
            "grid_column": null,
            "grid_gap": null,
            "grid_row": null,
            "grid_template_areas": null,
            "grid_template_columns": null,
            "grid_template_rows": null,
            "height": null,
            "justify_content": null,
            "justify_items": null,
            "left": null,
            "margin": null,
            "max_height": null,
            "max_width": null,
            "min_height": null,
            "min_width": null,
            "object_fit": null,
            "object_position": null,
            "order": null,
            "overflow": null,
            "overflow_x": null,
            "overflow_y": null,
            "padding": null,
            "right": null,
            "top": null,
            "visibility": null,
            "width": null
          }
        },
        "e6968a239fa142c386126f1b799a2aa5": {
          "model_module": "@jupyter-widgets/controls",
          "model_name": "DescriptionStyleModel",
          "model_module_version": "1.5.0",
          "state": {
            "_model_module": "@jupyter-widgets/controls",
            "_model_module_version": "1.5.0",
            "_model_name": "DescriptionStyleModel",
            "_view_count": null,
            "_view_module": "@jupyter-widgets/base",
            "_view_module_version": "1.2.0",
            "_view_name": "StyleView",
            "description_width": ""
          }
        },
        "2d540c6733314b3b87f2b9d37c8c0064": {
          "model_module": "@jupyter-widgets/base",
          "model_name": "LayoutModel",
          "model_module_version": "1.2.0",
          "state": {
            "_model_module": "@jupyter-widgets/base",
            "_model_module_version": "1.2.0",
            "_model_name": "LayoutModel",
            "_view_count": null,
            "_view_module": "@jupyter-widgets/base",
            "_view_module_version": "1.2.0",
            "_view_name": "LayoutView",
            "align_content": null,
            "align_items": null,
            "align_self": null,
            "border": null,
            "bottom": null,
            "display": null,
            "flex": null,
            "flex_flow": null,
            "grid_area": null,
            "grid_auto_columns": null,
            "grid_auto_flow": null,
            "grid_auto_rows": null,
            "grid_column": null,
            "grid_gap": null,
            "grid_row": null,
            "grid_template_areas": null,
            "grid_template_columns": null,
            "grid_template_rows": null,
            "height": null,
            "justify_content": null,
            "justify_items": null,
            "left": null,
            "margin": null,
            "max_height": null,
            "max_width": null,
            "min_height": null,
            "min_width": null,
            "object_fit": null,
            "object_position": null,
            "order": null,
            "overflow": null,
            "overflow_x": null,
            "overflow_y": null,
            "padding": null,
            "right": null,
            "top": null,
            "visibility": null,
            "width": null
          }
        },
        "e4ed985625a644f78f170afab7590a58": {
          "model_module": "@jupyter-widgets/controls",
          "model_name": "ProgressStyleModel",
          "model_module_version": "1.5.0",
          "state": {
            "_model_module": "@jupyter-widgets/controls",
            "_model_module_version": "1.5.0",
            "_model_name": "ProgressStyleModel",
            "_view_count": null,
            "_view_module": "@jupyter-widgets/base",
            "_view_module_version": "1.2.0",
            "_view_name": "StyleView",
            "bar_color": null,
            "description_width": ""
          }
        },
        "a6d54027b33b4332979c68bd0dfdb64c": {
          "model_module": "@jupyter-widgets/base",
          "model_name": "LayoutModel",
          "model_module_version": "1.2.0",
          "state": {
            "_model_module": "@jupyter-widgets/base",
            "_model_module_version": "1.2.0",
            "_model_name": "LayoutModel",
            "_view_count": null,
            "_view_module": "@jupyter-widgets/base",
            "_view_module_version": "1.2.0",
            "_view_name": "LayoutView",
            "align_content": null,
            "align_items": null,
            "align_self": null,
            "border": null,
            "bottom": null,
            "display": null,
            "flex": null,
            "flex_flow": null,
            "grid_area": null,
            "grid_auto_columns": null,
            "grid_auto_flow": null,
            "grid_auto_rows": null,
            "grid_column": null,
            "grid_gap": null,
            "grid_row": null,
            "grid_template_areas": null,
            "grid_template_columns": null,
            "grid_template_rows": null,
            "height": null,
            "justify_content": null,
            "justify_items": null,
            "left": null,
            "margin": null,
            "max_height": null,
            "max_width": null,
            "min_height": null,
            "min_width": null,
            "object_fit": null,
            "object_position": null,
            "order": null,
            "overflow": null,
            "overflow_x": null,
            "overflow_y": null,
            "padding": null,
            "right": null,
            "top": null,
            "visibility": null,
            "width": null
          }
        },
        "908d75939a574629a6fe7b612890b31a": {
          "model_module": "@jupyter-widgets/controls",
          "model_name": "DescriptionStyleModel",
          "model_module_version": "1.5.0",
          "state": {
            "_model_module": "@jupyter-widgets/controls",
            "_model_module_version": "1.5.0",
            "_model_name": "DescriptionStyleModel",
            "_view_count": null,
            "_view_module": "@jupyter-widgets/base",
            "_view_module_version": "1.2.0",
            "_view_name": "StyleView",
            "description_width": ""
          }
        },
        "c23c413622b64a2c8e9dbdaa441242af": {
          "model_module": "@jupyter-widgets/base",
          "model_name": "LayoutModel",
          "model_module_version": "1.2.0",
          "state": {
            "_model_module": "@jupyter-widgets/base",
            "_model_module_version": "1.2.0",
            "_model_name": "LayoutModel",
            "_view_count": null,
            "_view_module": "@jupyter-widgets/base",
            "_view_module_version": "1.2.0",
            "_view_name": "LayoutView",
            "align_content": null,
            "align_items": null,
            "align_self": null,
            "border": null,
            "bottom": null,
            "display": null,
            "flex": null,
            "flex_flow": null,
            "grid_area": null,
            "grid_auto_columns": null,
            "grid_auto_flow": null,
            "grid_auto_rows": null,
            "grid_column": null,
            "grid_gap": null,
            "grid_row": null,
            "grid_template_areas": null,
            "grid_template_columns": null,
            "grid_template_rows": null,
            "height": null,
            "justify_content": null,
            "justify_items": null,
            "left": null,
            "margin": null,
            "max_height": null,
            "max_width": null,
            "min_height": null,
            "min_width": null,
            "object_fit": null,
            "object_position": null,
            "order": null,
            "overflow": null,
            "overflow_x": null,
            "overflow_y": null,
            "padding": null,
            "right": null,
            "top": null,
            "visibility": null,
            "width": null
          }
        },
        "daa6bcfd2cb84249a781d8dd855b0ad7": {
          "model_module": "@jupyter-widgets/controls",
          "model_name": "DescriptionStyleModel",
          "model_module_version": "1.5.0",
          "state": {
            "_model_module": "@jupyter-widgets/controls",
            "_model_module_version": "1.5.0",
            "_model_name": "DescriptionStyleModel",
            "_view_count": null,
            "_view_module": "@jupyter-widgets/base",
            "_view_module_version": "1.2.0",
            "_view_name": "StyleView",
            "description_width": ""
          }
        },
        "5f511e3c646e4c8c846a96dd7a3dd28c": {
          "model_module": "@jupyter-widgets/controls",
          "model_name": "HTMLModel",
          "model_module_version": "1.5.0",
          "state": {
            "_dom_classes": [],
            "_model_module": "@jupyter-widgets/controls",
            "_model_module_version": "1.5.0",
            "_model_name": "HTMLModel",
            "_view_count": null,
            "_view_module": "@jupyter-widgets/controls",
            "_view_module_version": "1.5.0",
            "_view_name": "HTMLView",
            "description": "",
            "description_tooltip": null,
            "layout": "IPY_MODEL_a6d54027b33b4332979c68bd0dfdb64c",
            "placeholder": "​",
            "style": "IPY_MODEL_908d75939a574629a6fe7b612890b31a",
            "value": "Processing: 100%"
          }
        },
        "ce49d8f0f65747e88b1762916f091dfa": {
          "model_module": "@jupyter-widgets/controls",
          "model_name": "FloatProgressModel",
          "model_module_version": "1.5.0",
          "state": {
            "_dom_classes": [],
            "_model_module": "@jupyter-widgets/controls",
            "_model_module_version": "1.5.0",
            "_model_name": "FloatProgressModel",
            "_view_count": null,
            "_view_module": "@jupyter-widgets/controls",
            "_view_module_version": "1.5.0",
            "_view_name": "ProgressView",
            "bar_style": "",
            "description": "",
            "description_tooltip": null,
            "layout": "IPY_MODEL_2d540c6733314b3b87f2b9d37c8c0064",
            "max": 7,
            "min": 0,
            "orientation": "horizontal",
            "style": "IPY_MODEL_e4ed985625a644f78f170afab7590a58",
            "value": 7
          }
        },
        "d6e97b695ca8483cb18fd049bd18477a": {
          "model_module": "@jupyter-widgets/controls",
          "model_name": "HTMLModel",
          "model_module_version": "1.5.0",
          "state": {
            "_dom_classes": [],
            "_model_module": "@jupyter-widgets/controls",
            "_model_module_version": "1.5.0",
            "_model_name": "HTMLModel",
            "_view_count": null,
            "_view_module": "@jupyter-widgets/controls",
            "_view_module_version": "1.5.0",
            "_view_name": "HTMLView",
            "description": "",
            "description_tooltip": null,
            "layout": "IPY_MODEL_c23c413622b64a2c8e9dbdaa441242af",
            "placeholder": "​",
            "style": "IPY_MODEL_daa6bcfd2cb84249a781d8dd855b0ad7",
            "value": " 7/7 [03:48&lt;00:00, 24.70s/it]"
          }
        },
        "7305b7c011d146db85948291577b6b0a": {
          "model_module": "@jupyter-widgets/base",
          "model_name": "LayoutModel",
          "model_module_version": "1.2.0",
          "state": {
            "_model_module": "@jupyter-widgets/base",
            "_model_module_version": "1.2.0",
            "_model_name": "LayoutModel",
            "_view_count": null,
            "_view_module": "@jupyter-widgets/base",
            "_view_module_version": "1.2.0",
            "_view_name": "LayoutView",
            "align_content": null,
            "align_items": null,
            "align_self": null,
            "border": null,
            "bottom": null,
            "display": null,
            "flex": null,
            "flex_flow": null,
            "grid_area": null,
            "grid_auto_columns": null,
            "grid_auto_flow": null,
            "grid_auto_rows": null,
            "grid_column": null,
            "grid_gap": null,
            "grid_row": null,
            "grid_template_areas": null,
            "grid_template_columns": null,
            "grid_template_rows": null,
            "height": null,
            "justify_content": null,
            "justify_items": null,
            "left": null,
            "margin": null,
            "max_height": null,
            "max_width": null,
            "min_height": null,
            "min_width": null,
            "object_fit": null,
            "object_position": null,
            "order": null,
            "overflow": null,
            "overflow_x": null,
            "overflow_y": null,
            "padding": null,
            "right": null,
            "top": null,
            "visibility": "hidden",
            "width": null
          }
        },
        "9c9712f91767448faae247f4b1723e2b": {
          "model_module": "@jupyter-widgets/controls",
          "model_name": "HBoxModel",
          "model_module_version": "1.5.0",
          "state": {
            "_dom_classes": [],
            "_model_module": "@jupyter-widgets/controls",
            "_model_module_version": "1.5.0",
            "_model_name": "HBoxModel",
            "_view_count": null,
            "_view_module": "@jupyter-widgets/controls",
            "_view_module_version": "1.5.0",
            "_view_name": "HBoxView",
            "box_style": "",
            "children": [
              "IPY_MODEL_5f511e3c646e4c8c846a96dd7a3dd28c",
              "IPY_MODEL_ce49d8f0f65747e88b1762916f091dfa",
              "IPY_MODEL_d6e97b695ca8483cb18fd049bd18477a"
            ],
            "layout": "IPY_MODEL_7305b7c011d146db85948291577b6b0a"
          }
        }
      }
    }
  },
  "nbformat": 4,
  "nbformat_minor": 0
}